{
 "cells": [
  {
   "cell_type": "code",
   "execution_count": 1,
   "metadata": {},
   "outputs": [
    {
     "name": "stdout",
     "output_type": "stream",
     "text": [
      "Kernel is up and running\n"
     ]
    }
   ],
   "source": [
    "/** Verify that the kernel is up and running */\n",
    "println(s\"Kernel is up and running\")"
   ]
  },
  {
   "cell_type": "code",
   "execution_count": 2,
   "metadata": {
    "collapsed": true
   },
   "outputs": [],
   "source": [
    "/* specify schema for clickstream data */\n",
    "import org.apache.spark.sql.types._\n",
    "\n",
    "val clickdataSchema = StructType(Array(\n",
    "      StructField(\"eventId\", LongType, false),\n",
    "      StructField(\"eventType\", StringType, false),\n",
    "      StructField(\"timestamp\", StringType, false),\n",
    "      StructField(\"ipaddress\", StringType, false),\n",
    "      StructField(\"sessionId\", StringType, false),\n",
    "      StructField(\"userId\", StringType, false),\n",
    "      StructField(\"pageUrl\", StringType, false),\n",
    "      StructField(\"browser\", StringType, false)))"
   ]
  },
  {
   "cell_type": "code",
   "execution_count": 3,
   "metadata": {
    "collapsed": true
   },
   "outputs": [],
   "source": [
    "/** BLUSpark imports and connection information */\n",
    "import sys.process._\n",
    "import scala.concurrent.{Await, Future}\n",
    "import scala.concurrent.duration.Duration\n",
    "import org.apache.spark.sql.Row\n",
    "import org.apache.spark.sql.types._\n",
    "import com.ibm.bluspark.catalog.TableSchema\n",
    "import com.ibm.bluspark.oltp.OLTPContext\n",
    "import com.ibm.bluspark.example.DataGenerator\n",
    "import com.ibm.bluspark.common.ConfigurationReader\n",
    "import com.ibm.bluspark.oltp.InsertResult\n",
    "import com.ibm.bluspark.example.BluSparkUtil\n",
    "ConfigurationReader.setConnectionEndpoints(\"XX.XX.XX.XX.5555\")"
   ]
  },
  {
   "cell_type": "code",
   "execution_count": 4,
   "metadata": {},
   "outputs": [
    {
     "data": {
      "text/plain": [
       "None"
      ]
     },
     "execution_count": 4,
     "metadata": {},
     "output_type": "execute_result"
    }
   ],
   "source": [
    "/** Run this cell if you need to CREATE the database.  */\n",
    "val oltpContext = OLTPContext.createDatabase(\"CLICKDB\")\n",
    "val error =  oltpContext.openDatabase()\n",
    "error.map(e => sys.error(e.toString))"
   ]
  },
  {
   "cell_type": "code",
   "execution_count": 5,
   "metadata": {},
   "outputs": [],
   "source": [
    "/** Define Table schema for clickstream data */\n",
    "val clickStreamSchema = TableSchema(\"ClickStreamTable\", clickdataSchema, Array(\"eventId\"),Array(\"eventId\"))"
   ]
  },
  {
   "cell_type": "code",
   "execution_count": 6,
   "metadata": {},
   "outputs": [
    {
     "name": "stdout",
     "output_type": "stream",
     "text": [
      "Table ClickStreamTable successfully created.\n"
     ]
    }
   ],
   "source": [
    "/** Create the table - skip if table is already created */\n",
    "var res = oltpContext.dropTable(clickStreamSchema.tableName)\n",
    "var res = oltpContext.createTable(clickStreamSchema)\n",
    "if (res.isDefined) {\n",
    "  println(s\"Error while creating table ${clickStreamSchema.tableName}\\n: ${res.get}\")\n",
    "} else {\n",
    "  println(s\"Table ${clickStreamSchema.tableName} successfully created.\")\n",
    "}"
   ]
  },
  {
   "cell_type": "code",
   "execution_count": 7,
   "metadata": {
    "collapsed": true
   },
   "outputs": [],
   "source": [
    "val clickstreamTable = oltpContext.getTable(\"ClickStreamTable\")"
   ]
  },
  {
   "cell_type": "code",
   "execution_count": 8,
   "metadata": {},
   "outputs": [
    {
     "name": "stdout",
     "output_type": "stream",
     "text": [
      "+-----------+---------+----------+------------+-----------------+------+--------------------+-------+\n",
      "|    eventId|eventType| timestamp|   ipaddress|        sessionId|userId|             pageUrl|browser|\n",
      "+-----------+---------+----------+------------+-----------------+------+--------------------+-------+\n",
      "|20170522901| pageView|1496311260|169.34.56.78|y20170522a4499u21|ceaton|http://www.cybers...| Chrome|\n",
      "|20170522902| pageView|1496311320|169.34.56.78|y20170522a4499u21|ceaton|http://www.cybers...| Chrome|\n",
      "|20170522903| pageView|1496311440|169.34.56.78|y20170522a4499u21|ceaton|http://www.cybers...| Chrome|\n",
      "|20170522904| pageView|1496311500|169.34.56.78|y20170522a4499u21|ceaton|http://www.cybers...| Chrome|\n",
      "|20170522905| pageView|1496311560|169.34.56.78|y20170522a4499u21|ceaton|http://www.cybers...| Chrome|\n",
      "+-----------+---------+----------+------------+-----------------+------+--------------------+-------+\n",
      "only showing top 5 rows\n",
      "\n"
     ]
    }
   ],
   "source": [
    "/* initialize spark session*/\n",
    "import org.apache.spark.sql.SparkSession\n",
    "import org.apache.spark.sql.DataFrameReader\n",
    "\n",
    "val spark: SparkSession = SparkSession.\n",
    "    builder().\n",
    "    getOrCreate()\n",
    "\n",
    "import spark.implicits._\n",
    "\n",
    "val clickStreamDF = spark.read.option(\"header\", \"true\").option(\"inferSchema\", false).schema(clickdataSchema).csv(\"click_stream_dataV52.csv\")\n",
    "\n",
    "clickStreamDF.show(5)"
   ]
  },
  {
   "cell_type": "code",
   "execution_count": 9,
   "metadata": {},
   "outputs": [
    {
     "name": "stdout",
     "output_type": "stream",
     "text": [
      "Ingest completed successfully\n"
     ]
    }
   ],
   "source": [
    "/** Iteratively Insert rows in batch */\n",
    "import collection.JavaConverters._\n",
    "\n",
    "val iter = clickStreamDF.toLocalIterator() \n",
    "val error = oltpContext.batchInsert(clickstreamTable, iter.asScala)\n",
    "if (error.isDefined) {\n",
    "    System.err.println(error)\n",
    "}\n",
    "println(s\"\"\"Ingest completed successfully\"\"\")"
   ]
  }
 ],
 "metadata": {
  "kernelspec": {
   "display_name": "Apache Toree - Scala",
   "language": "scala",
   "name": "apache_toree_scala"
  },
  "language_info": {
   "file_extension": ".scala",
   "name": "scala",
   "version": "2.11.8"
  }
 },
 "nbformat": 4,
 "nbformat_minor": 1
}
