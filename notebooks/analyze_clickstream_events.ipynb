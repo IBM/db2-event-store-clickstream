{
 "cells": [
  {
   "cell_type": "code",
   "execution_count": null,
   "metadata": {
    "collapsed": true
   },
   "outputs": [],
   "source": [
    "%AddJar -magic https://brunelvis.org/jar/spark-kernel-brunel-all-2.3.jar -f"
   ]
  },
  {
   "cell_type": "code",
   "execution_count": null,
   "metadata": {
    "collapsed": true
   },
   "outputs": [],
   "source": [
    "/* specify schema for clickstream data */\n",
    "import org.apache.spark.sql.types._\n",
    "\n",
    "val clickdataSchema = StructType(Array(\n",
    "      StructField(\"eventId\", LongType, false),\n",
    "      StructField(\"eventType\", StringType, false),\n",
    "      StructField(\"timestamp\", StringType, false),\n",
    "      StructField(\"ipaddress\", StringType, false),\n",
    "      StructField(\"sessionId\", StringType, false),\n",
    "      StructField(\"userId\", StringType, false),\n",
    "      StructField(\"pageUrl\", StringType, false),\n",
    "      StructField(\"browser\", StringType, false)))"
   ]
  },
  {
   "cell_type": "code",
   "execution_count": null,
   "metadata": {
    "collapsed": true
   },
   "outputs": [],
   "source": [
    "/** IBM Event Store imports and connection information */\n",
    "import sys.process._\n",
    "import scala.concurrent.{Await, Future}\n",
    "import scala.concurrent.duration.Duration\n",
    "import org.apache.spark.sql.Row\n",
    "import org.apache.spark.sql.types._\n",
    "import com.ibm.bluspark.catalog.TableSchema\n",
    "import com.ibm.bluspark.oltp.OLTPContext\n",
    "import com.ibm.bluspark.example.DataGenerator\n",
    "import com.ibm.bluspark.common.ConfigurationReader\n",
    "import com.ibm.bluspark.oltp.InsertResult\n",
    "import com.ibm.bluspark.example.BluSparkUtil\n",
    "ConfigurationReader.setConnectionEndpoints(\"XX.XX.XX.XX:5555\")"
   ]
  },
  {
   "cell_type": "code",
   "execution_count": null,
   "metadata": {
    "collapsed": true
   },
   "outputs": [],
   "source": [
    "/** Connect to the IBM Event Store */\n",
    "import java.io.File\n",
    "import com.ibm.bluspark.oltp.OLTPContext\n",
    "import org.apache.log4j.{Level, LogManager, Logger}\n",
    "import org.apache.spark._\n",
    "import org.apache.spark.sql.bluspark.BluSparkSQLContext\n",
    "\n",
    "val sqlContext = new BluSparkSQLContext(spark.sparkContext, \"CLICKDB\", 1)\n",
    "val table = sqlContext.loadBluTable(\"ClickStreamTable\")\n",
    "\n",
    "table.registerTempTable(\"ClickData\")\n",
    "val clickStreamDF = sqlContext.sql(\"select * from ClickData\")\n",
    "//clickStreamDF.show(5)"
   ]
  },
  {
   "cell_type": "markdown",
   "metadata": {},
   "source": [
    "### Analyze Clickstream data"
   ]
  },
  {
   "cell_type": "code",
   "execution_count": null,
   "metadata": {},
   "outputs": [],
   "source": [
    "/* Calculate time_on_page */\n",
    "import org.apache.spark.sql.expressions.Window\n",
    "import org.apache.spark.sql.functions._\n",
    "\n",
    "val timestamp = clickStreamDF(\"timestamp\")\n",
    "val next_timestamp = lead(timestamp, 1).over(Window.orderBy(timestamp))\n",
    "val clickStreamWithTimeDF = clickStreamDF.withColumn(\"time\", next_timestamp.cast(LongType) - timestamp.cast(LongType))\n",
    "clickStreamWithTimeDF.show(5)"
   ]
  },
  {
   "cell_type": "code",
   "execution_count": null,
   "metadata": {},
   "outputs": [],
   "source": [
    "/* Calculate date on page_view */\n",
    "val sqlContext = new org.apache.spark.sql.SQLContext(sc)\n",
    "import sqlContext.implicits._\n",
    "\n",
    "clickStreamWithTimeDF.registerTempTable(\"tempData\")\n",
    "val clickStreamWithDateTimeDF = sqlContext.sql(\"select eventId, eventType, cast(from_unixtime(timestamp) as date), ipaddress,sessionId,userId,pageUrl,browser,time from tempData\").\n",
    "                            withColumnRenamed(\"CAST(from_unixtime(CAST(timestamp AS BIGINT), yyyy-MM-dd HH:mm:ss) AS DATE)\",\"date\")\n",
    "\n",
    "//clickStreamWithDateTimeDF.show(5)\n",
    "\n",
    "/* build aggregated web metrics from clickstream data*/\n",
    "clickStreamWithDateTimeDF.registerTempTable(\"ClickData\")\n",
    "val clicksDF = sqlContext.sql(\"select pageURL, count(*) as page_hits, sum(time) as total_time from ClickData where eventType='pageView' group by pageURL\")\n",
    "clicksDF.show(5,false)"
   ]
  },
  {
   "cell_type": "code",
   "execution_count": null,
   "metadata": {
    "collapsed": true
   },
   "outputs": [],
   "source": [
    "/* build aggregated web metrics by product_line, products and feature browses */\n",
    "clicksDF.registerTempTable(\"WebMetricsData\")\n",
    "val metricsQuery = \"\"\"select parse_URL(pageURL,'QUERY','product_line') as product_line, \n",
    "                        Coalesce(parse_URL(pageURL,'QUERY','action'),'') as action,\n",
    "                        Coalesce(parse_URL(pageURL,'QUERY','product'),'') as product, \n",
    "                        Coalesce(parse_URL(pageURL,'QUERY','feature'),'') as feature, page_hits, total_time from WebMetricsData\"\"\"\n",
    "\n",
    "val webMetricsDF = sqlContext.sql(metricsQuery).filter($\"product_line\".isNotNull).sort($\"product_line\".desc)\n",
    "//webMetricsDF.show(5)"
   ]
  },
  {
   "cell_type": "markdown",
   "metadata": {},
   "source": [
    "### Aggregated Web Metrics for All Product Lines"
   ]
  },
  {
   "cell_type": "code",
   "execution_count": null,
   "metadata": {},
   "outputs": [],
   "source": [
    "/* build aggregated web metrics per product line */\n",
    "val productlineMetrics = webMetricsDF.select(\"product_line\",\"page_hits\",\"total_time\").\n",
    "    groupBy(\"product_line\").agg(sum(\"page_hits\"), sum(\"total_time\")).\n",
    "    withColumnRenamed(\"sum(page_hits)\",\"page_hits\").\n",
    "    withColumnRenamed(\"sum(total_time)\",\"total_time\")\n",
    "\n",
    "productlineMetrics.sort($\"page_hits\".desc).show(10)\n"
   ]
  },
  {
   "cell_type": "code",
   "execution_count": null,
   "metadata": {},
   "outputs": [],
   "source": [
    "%%brunel data('productlineMetrics') \n",
    "bar x(product_line) y(page_hits) tooltip(#all)color(product_line)legends(none) axes(x:'product lines',y:'page views')sort(page_hits)|\n",
    "stack polar bar  y(total_time) color(product_line)label(product_line) legends(none) tooltip(\"time on page (sec): \",total_time)sort(page_hits) \n",
    " :: width=1000, height=300"
   ]
  },
  {
   "cell_type": "markdown",
   "metadata": {},
   "source": [
    "### Aggregated Web Metrics for Smart Phones"
   ]
  },
  {
   "cell_type": "code",
   "execution_count": null,
   "metadata": {},
   "outputs": [],
   "source": [
    "/* Visualize aggregated page hits and browse time */\n",
    "val productMetrics = webMetricsDF.select(\"product_line\",\"product\",\"page_hits\",\"total_time\").filter($\"action\" === \"details\").filter($\"product_line\" === \"smartphones\").\n",
    "    groupBy(\"product_line\",\"product\").agg(sum(\"page_hits\"), sum(\"total_time\")).\n",
    "    withColumnRenamed(\"sum(page_hits)\",\"page_hits\").\n",
    "    withColumnRenamed(\"sum(total_time)\",\"total_time\")\n",
    "productMetrics.show()"
   ]
  },
  {
   "cell_type": "code",
   "execution_count": null,
   "metadata": {},
   "outputs": [],
   "source": [
    "%%brunel data('productMetrics') \n",
    "bar x(product) y(page_hits) tooltip(page_hits,product)color(product) legends(none) axes(x:'smart phones',y:'page views')sort(page_hits)|\n",
    "stack polar bar  y(total_time) color(product)label(product)tooltip(\"time on page (sec): \",total_time) legends(none)sort(page_hits)\n",
    ":: width=1000, height=300"
   ]
  },
  {
   "cell_type": "markdown",
   "metadata": {},
   "source": [
    "### Aggregated Web Metrics on Smart Phone Features "
   ]
  },
  {
   "cell_type": "code",
   "execution_count": null,
   "metadata": {},
   "outputs": [],
   "source": [
    " /*Visualize aggregated page hits for Features */\n",
    "val featureMetrics = webMetricsDF.select(\"product\",\"feature\",\"page_hits\",\"total_time\").filter($\"action\" === \"details\").filter($\"product\" === \"A-phone\").\n",
    "    filter(\"feature != ''\").groupBy(\"product\",\"feature\").agg(sum(\"page_hits\"), sum(\"total_time\")).\n",
    "    withColumnRenamed(\"sum(page_hits)\",\"page_hits\").\n",
    "    withColumnRenamed(\"sum(total_time)\",\"total_time\")\n",
    "\n",
    "featureMetrics.show()"
   ]
  },
  {
   "cell_type": "code",
   "execution_count": null,
   "metadata": {},
   "outputs": [],
   "source": [
    "%%brunel data('featureMetrics') \n",
    "bar x(feature) y(page_hits) tooltip(feature,page_hits)color(feature) legends(none) axes(x:'A-phone features',y:'page views')sort(page_hits)interaction(select)|\n",
    "stack polar bar  y(total_time) color(feature)label(feature) tooltip(\"time on page (sec): \",total_time) legends(none)sort(page_hits)opacity(#selection)\n",
    ":: width=1000, height=300"
   ]
  },
  {
   "cell_type": "markdown",
   "metadata": {},
   "source": [
    "### Web Metrics for user 'David'"
   ]
  },
  {
   "cell_type": "code",
   "execution_count": null,
   "metadata": {},
   "outputs": [],
   "source": [
    "/* get user web metrics from clickstream data */\n",
    "val userClicksQuery =\"\"\"select pageURL,year(date) as year,month(date) as month,weekofyear(date) as week,day(date) as day,\n",
    "                        count(*) as page_hits, sum(time) as total_time from ClickData where eventType='pageView' and\n",
    "                        userId='datkins' group by pageURL, date\"\"\"\n",
    "val userClicksDF = sqlContext.sql(userClicksQuery)        \n",
    "userClicksDF.show(5)"
   ]
  },
  {
   "cell_type": "code",
   "execution_count": null,
   "metadata": {},
   "outputs": [],
   "source": [
    "/* build user web metrics by product_line, products and feature browses */\n",
    "userClicksDF.registerTempTable(\"UserWebMetricsData\")\n",
    "val metricsQuery = \"\"\"select month,week,day, parse_URL(pageURL,'QUERY','product_line') as product_line, \n",
    "                        Coalesce(parse_URL(pageURL,'QUERY','action'),'') as action,\n",
    "                        Coalesce(parse_URL(pageURL,'QUERY','product'),'') as product, \n",
    "                        Coalesce(parse_URL(pageURL,'QUERY','feature'),'') as feature, page_hits, total_time from UserWebMetricsData\n",
    "                        where year = '2017'\"\"\"\n",
    "\n",
    "val userWebMetricsDF = sqlContext.sql(metricsQuery).filter($\"product_line\".isNotNull)\n",
    "userWebMetricsDF.show(5)"
   ]
  },
  {
   "cell_type": "code",
   "execution_count": null,
   "metadata": {},
   "outputs": [],
   "source": [
    "/* visualize metrics for most recent week */\n",
    "val weekMetricsDF = userWebMetricsDF.groupBy(\"day\",\"product_line\",\"action\",\"product\",\"feature\",\"page_hits\",\"total_time\").max(\"week\")\n",
    "weekMetricsDF.show(5)"
   ]
  },
  {
   "cell_type": "code",
   "execution_count": null,
   "metadata": {},
   "outputs": [],
   "source": [
    "%%brunel data('weekMetricsDF') \n",
    "x(day)y(page_hits) stack bar sum (page_hits) color(product_line) tooltip(#all)axes(x:'Day of Month' ,y:'page views') axes(x:7) interaction(select)  |\n",
    "stack polar bar  y(total_time) color(product_line)label(product) legends(none) tooltip(#all)opacity(#selection)\n",
    ":: width=1000, height=300"
   ]
  },
  {
   "cell_type": "markdown",
   "metadata": {},
   "source": [
    "\n",
    "##### Insight summary from Clickstream Analysis"
   ]
  },
  {
   "cell_type": "markdown",
   "metadata": {},
   "source": [
    "1. Aggregated web metrics of recent months highlights significant interest in Smart phones with A-phones leading the pack. \n",
    "2. User 'David' is a repeat visitor and has explored Smart phones multiple times in recent days along with Computers and Headphones. \n"
   ]
  },
  {
   "cell_type": "markdown",
   "metadata": {},
   "source": [
    "###### sanne0611v4 "
   ]
  }
 ],
 "metadata": {
  "kernelspec": {
   "display_name": "Scala 2.10 with Spark 1.6",
   "language": "scala",
   "name": "scala"
  },
  "language_info": {
   "name": "scala"
  }
 },
 "nbformat": 4,
 "nbformat_minor": 1
}
